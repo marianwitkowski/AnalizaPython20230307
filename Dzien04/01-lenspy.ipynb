{
 "cells": [
  {
   "cell_type": "code",
   "execution_count": 1,
   "id": "c09300a6",
   "metadata": {},
   "outputs": [],
   "source": [
    "#!pip install lenspy"
   ]
  },
  {
   "cell_type": "code",
   "execution_count": 2,
   "id": "e4ff2695",
   "metadata": {},
   "outputs": [
    {
     "name": "stderr",
     "output_type": "stream",
     "text": [
      "C:\\Users\\kurs\\anaconda3\\lib\\site-packages\\lenspy\\__init__.py:7: UserWarning: \n",
      "The dash_core_components package is deprecated. Please replace\n",
      "`import dash_core_components as dcc` with `from dash import dcc`\n",
      "  import dash_core_components as dcc\n",
      "C:\\Users\\kurs\\anaconda3\\lib\\site-packages\\lenspy\\__init__.py:8: UserWarning: \n",
      "The dash_html_components package is deprecated. Please replace\n",
      "`import dash_html_components as html` with `from dash import html`\n",
      "  import dash_html_components as html\n"
     ]
    }
   ],
   "source": [
    "import numpy as np\n",
    "import matplotlib.pyplot as plt\n",
    "import plotly.graph_objects as go\n",
    "from lenspy import DynamicPlot"
   ]
  },
  {
   "cell_type": "code",
   "execution_count": 3,
   "id": "6c656432",
   "metadata": {},
   "outputs": [],
   "source": [
    "x = np.arange(0, 10, 1e-3)\n",
    "y = np.sin(x) + np.sin(100*x)*1e-1"
   ]
  },
  {
   "cell_type": "code",
   "execution_count": 4,
   "id": "58405878",
   "metadata": {},
   "outputs": [],
   "source": [
    "#plt.plot(x, y)"
   ]
  },
  {
   "cell_type": "code",
   "execution_count": 5,
   "id": "6da51274",
   "metadata": {},
   "outputs": [
    {
     "name": "stdout",
     "output_type": "stream",
     "text": [
      "Dash is running on http://127.0.0.1:8050/\n",
      "\n",
      " * Serving Flask app '__main__'\n",
      " * Debug mode: off\n"
     ]
    }
   ],
   "source": [
    "fig = go.Figure(data=[go.Scattergl(x=x,y=y)])\n",
    "plot = DynamicPlot(fig)\n",
    "plot.show()"
   ]
  },
  {
   "cell_type": "code",
   "execution_count": null,
   "id": "4687df8f",
   "metadata": {},
   "outputs": [],
   "source": []
  }
 ],
 "metadata": {
  "kernelspec": {
   "display_name": "Python 3 (ipykernel)",
   "language": "python",
   "name": "python3"
  },
  "language_info": {
   "codemirror_mode": {
    "name": "ipython",
    "version": 3
   },
   "file_extension": ".py",
   "mimetype": "text/x-python",
   "name": "python",
   "nbconvert_exporter": "python",
   "pygments_lexer": "ipython3",
   "version": "3.10.9"
  }
 },
 "nbformat": 4,
 "nbformat_minor": 5
}
